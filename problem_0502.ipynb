{
 "cells": [
  {
   "cell_type": "markdown",
   "metadata": {},
   "source": [
    "## Quiz #0502"
   ]
  },
  {
   "cell_type": "markdown",
   "metadata": {},
   "source": [
    "### \"Human Activity Recognition\" "
   ]
  },
  {
   "cell_type": "markdown",
   "metadata": {},
   "source": [
    "#### Answer the following questions by providing Python code:\n",
    "#### Objectives:\n",
    "- Carry out the EDA.\n",
    "- Carry out the data pre-processing.\n",
    "- Optimize and test a predictive model of your choice."
   ]
  },
  {
   "cell_type": "code",
   "execution_count": 45,
   "metadata": {},
   "outputs": [],
   "source": [
    "import numpy as np\n",
    "import pandas as pd\n",
    "import matplotlib.pyplot as plt\n",
    "import seaborn as sns\n",
    "import os\n",
    "import warnings\n",
    "from sklearn.model_selection import train_test_split, GridSearchCV\n",
    "from sklearn.neighbors import KNeighborsClassifier\n",
    "from sklearn.tree import DecisionTreeClassifier\n",
    "from sklearn.ensemble import RandomForestClassifier,AdaBoostClassifier, GradientBoostingClassifier\n",
    "from xgboost import XGBClassifier\n",
    "from sklearn import metrics, preprocessing\n",
    "warnings.filterwarnings(action='ignore')                  # Turn off the warnings.\n",
    "%matplotlib inline"
   ]
  },
  {
   "cell_type": "markdown",
   "metadata": {},
   "source": [
    "#### Read in data:\n",
    "The explanation on the dataset can be found [here](https://archive.ics.uci.edu/ml/datasets/human+activity+recognition+using+smartphones)."
   ]
  },
  {
   "cell_type": "code",
   "execution_count": 46,
   "metadata": {},
   "outputs": [],
   "source": [
    "# Go to the directory where the data file is located. \n",
    "# os.chdir(r'~~')                # Please, replace the path with your own. "
   ]
  },
  {
   "cell_type": "code",
   "execution_count": 47,
   "metadata": {},
   "outputs": [],
   "source": [
    "df = pd.read_csv('data_human activity recognition.csv', header='infer')"
   ]
  },
  {
   "cell_type": "code",
   "execution_count": 48,
   "metadata": {},
   "outputs": [
    {
     "data": {
      "text/plain": [
       "(19622, 160)"
      ]
     },
     "execution_count": 48,
     "metadata": {},
     "output_type": "execute_result"
    }
   ],
   "source": [
    "df.shape"
   ]
  },
  {
   "cell_type": "code",
   "execution_count": 49,
   "metadata": {},
   "outputs": [
    {
     "data": {
      "text/plain": [
       "Index(['Unnamed: 0', 'user_name', 'raw_timestamp_part_1',\n",
       "       'raw_timestamp_part_2', 'cvtd_timestamp', 'new_window', 'num_window',\n",
       "       'roll_belt', 'pitch_belt', 'yaw_belt',\n",
       "       ...\n",
       "       'gyros_forearm_x', 'gyros_forearm_y', 'gyros_forearm_z',\n",
       "       'accel_forearm_x', 'accel_forearm_y', 'accel_forearm_z',\n",
       "       'magnet_forearm_x', 'magnet_forearm_y', 'magnet_forearm_z', 'classe'],\n",
       "      dtype='object', length=160)"
      ]
     },
     "execution_count": 49,
     "metadata": {},
     "output_type": "execute_result"
    }
   ],
   "source": [
    "df.columns"
   ]
  },
  {
   "cell_type": "markdown",
   "metadata": {},
   "source": [
    "1). Carry out the EDA. Check for the missing values. HINT: The response variable is 'classe'."
   ]
  },
  {
   "cell_type": "code",
   "execution_count": 50,
   "metadata": {},
   "outputs": [
    {
     "data": {
      "text/plain": [
       "Index(['kurtosis_roll_belt', 'kurtosis_picth_belt', 'kurtosis_yaw_belt',\n",
       "       'skewness_roll_belt', 'skewness_roll_belt.1', 'skewness_yaw_belt',\n",
       "       'max_roll_belt', 'max_picth_belt', 'max_yaw_belt', 'min_roll_belt',\n",
       "       'min_pitch_belt', 'min_yaw_belt', 'amplitude_roll_belt',\n",
       "       'amplitude_pitch_belt', 'amplitude_yaw_belt', 'var_total_accel_belt',\n",
       "       'avg_roll_belt', 'stddev_roll_belt', 'var_roll_belt', 'avg_pitch_belt',\n",
       "       'stddev_pitch_belt', 'var_pitch_belt', 'avg_yaw_belt',\n",
       "       'stddev_yaw_belt', 'var_yaw_belt', 'var_accel_arm', 'avg_roll_arm',\n",
       "       'stddev_roll_arm', 'var_roll_arm', 'avg_pitch_arm', 'stddev_pitch_arm',\n",
       "       'var_pitch_arm', 'avg_yaw_arm', 'stddev_yaw_arm', 'var_yaw_arm',\n",
       "       'kurtosis_roll_arm', 'kurtosis_picth_arm', 'kurtosis_yaw_arm',\n",
       "       'skewness_roll_arm', 'skewness_pitch_arm', 'skewness_yaw_arm',\n",
       "       'max_roll_arm', 'max_picth_arm', 'max_yaw_arm', 'min_roll_arm',\n",
       "       'min_pitch_arm', 'min_yaw_arm', 'amplitude_roll_arm',\n",
       "       'amplitude_pitch_arm', 'amplitude_yaw_arm', 'kurtosis_roll_dumbbell',\n",
       "       'kurtosis_picth_dumbbell', 'kurtosis_yaw_dumbbell',\n",
       "       'skewness_roll_dumbbell', 'skewness_pitch_dumbbell',\n",
       "       'skewness_yaw_dumbbell', 'max_roll_dumbbell', 'max_picth_dumbbell',\n",
       "       'max_yaw_dumbbell', 'min_roll_dumbbell', 'min_pitch_dumbbell',\n",
       "       'min_yaw_dumbbell', 'amplitude_roll_dumbbell',\n",
       "       'amplitude_pitch_dumbbell', 'amplitude_yaw_dumbbell',\n",
       "       'var_accel_dumbbell', 'avg_roll_dumbbell', 'stddev_roll_dumbbell',\n",
       "       'var_roll_dumbbell', 'avg_pitch_dumbbell', 'stddev_pitch_dumbbell',\n",
       "       'var_pitch_dumbbell', 'avg_yaw_dumbbell', 'stddev_yaw_dumbbell',\n",
       "       'var_yaw_dumbbell', 'kurtosis_roll_forearm', 'kurtosis_picth_forearm',\n",
       "       'kurtosis_yaw_forearm', 'skewness_roll_forearm',\n",
       "       'skewness_pitch_forearm', 'skewness_yaw_forearm', 'max_roll_forearm',\n",
       "       'max_picth_forearm', 'max_yaw_forearm', 'min_roll_forearm',\n",
       "       'min_pitch_forearm', 'min_yaw_forearm', 'amplitude_roll_forearm',\n",
       "       'amplitude_pitch_forearm', 'amplitude_yaw_forearm', 'var_accel_forearm',\n",
       "       'avg_roll_forearm', 'stddev_roll_forearm', 'var_roll_forearm',\n",
       "       'avg_pitch_forearm', 'stddev_pitch_forearm', 'var_pitch_forearm',\n",
       "       'avg_yaw_forearm', 'stddev_yaw_forearm', 'var_yaw_forearm'],\n",
       "      dtype='object')"
      ]
     },
     "execution_count": 50,
     "metadata": {},
     "output_type": "execute_result"
    }
   ],
   "source": [
    "df.columns[df.isna().any()]"
   ]
  },
  {
   "cell_type": "markdown",
   "metadata": {},
   "source": [
    "2). Get rid of the columns that have more than 97% missing values."
   ]
  },
  {
   "cell_type": "code",
   "execution_count": 51,
   "metadata": {},
   "outputs": [],
   "source": [
    "missgv=[]\n",
    "for k, v in (df.isnull().sum()).to_dict().items():\n",
    "    if v>0.97*19622:\n",
    "        missgv.append(k)"
   ]
  },
  {
   "cell_type": "code",
   "execution_count": 52,
   "metadata": {},
   "outputs": [],
   "source": [
    "df.drop(missgv,axis=1,inplace=True)"
   ]
  },
  {
   "cell_type": "markdown",
   "metadata": {},
   "source": [
    "3). Get rid of the unnecessary columns. HINT: Those columns with \"time\" in the name and those that are obviously unnecessary."
   ]
  },
  {
   "cell_type": "code",
   "execution_count": 53,
   "metadata": {},
   "outputs": [],
   "source": [
    "#df.columns\n",
    "df.drop([\"raw_timestamp_part_1\",\"raw_timestamp_part_2\", \"cvtd_timestamp\"],axis=1,inplace=True)"
   ]
  },
  {
   "cell_type": "markdown",
   "metadata": {},
   "source": [
    "4). Label encode the responde variable. HINT: use preprocessing.LabelEncoder(). "
   ]
  },
  {
   "cell_type": "code",
   "execution_count": 54,
   "metadata": {},
   "outputs": [
    {
     "name": "stdout",
     "output_type": "stream",
     "text": [
      "{'classe', 'new_window', 'user_name'}\n"
     ]
    }
   ],
   "source": [
    "num_cols = df._get_numeric_data().columns\n",
    "cat_cols = set(df.columns) - set(num_cols)\n",
    "print(cat_cols)"
   ]
  },
  {
   "cell_type": "code",
   "execution_count": 55,
   "metadata": {},
   "outputs": [],
   "source": [
    "from sklearn.preprocessing import LabelEncoder\n",
    "# creating instance of labelencoder\n",
    "labelencoder = LabelEncoder()\n",
    "# Assigning numerical values and storing in another column\n",
    "df['new_window_Cat'] = labelencoder.fit_transform(df['new_window'])\n",
    "df['user_name_Cat'] = labelencoder.fit_transform(df['user_name'])\n",
    "df['classe_Cat'] = labelencoder.fit_transform(df['classe'])\n",
    "df.drop([\"new_window\",\"user_name\", \"classe\"],axis=1,inplace=True)"
   ]
  },
  {
   "cell_type": "markdown",
   "metadata": {},
   "source": [
    "5). Carry out min-max scaling of the exploratory variables. HINT: use preprocessing.MinMaxScaler()."
   ]
  },
  {
   "cell_type": "code",
   "execution_count": 56,
   "metadata": {},
   "outputs": [],
   "source": [
    "scaler = preprocessing.MinMaxScaler()\n",
    "minmax_df = scaler.fit_transform(df)"
   ]
  },
  {
   "cell_type": "markdown",
   "metadata": {},
   "source": [
    "6). Choose an algorithm and carry out the predictive analysis.\n",
    "\n",
    "- Optimize the hyperparameter(s)\n",
    "- Calculate the accuracy.\n",
    "- Aim for upper 90% accuracy."
   ]
  },
  {
   "cell_type": "code",
   "execution_count": 57,
   "metadata": {},
   "outputs": [
    {
     "name": "stdout",
     "output_type": "stream",
     "text": [
      "Random Forest accuracy : 0.918\n"
     ]
    }
   ],
   "source": [
    "y = df['classe_Cat'].values\n",
    "X = df.drop('classe_Cat', axis=1).values\n",
    "X_train, X_test, y_train, y_test = train_test_split(X, y, test_size=0.3, random_state=1234)\n",
    "\n",
    "#Feature Scaling\n",
    "from sklearn.preprocessing import StandardScaler\n",
    "sc = StandardScaler()\n",
    "X_train = sc.fit_transform(X_train)\n",
    "X_test = sc.transform(X_test)\n",
    "\n",
    "# Classification by Random Forest.\n",
    "RFC = RandomForestClassifier(n_estimators=100,max_depth=4,min_samples_leaf=3,random_state=123)\n",
    "RFC.fit(X_train, y_train)\n",
    "y_pred = RFC.predict(X_test)\n",
    "print( \"Random Forest accuracy : \" + str(np.round(metrics.accuracy_score(y_test,y_pred),3)))"
   ]
  },
  {
   "cell_type": "code",
   "execution_count": 58,
   "metadata": {},
   "outputs": [
    {
     "name": "stdout",
     "output_type": "stream",
     "text": [
      "              precision    recall  f1-score   support\n",
      "\n",
      "           0       0.99      1.00      1.00      1665\n",
      "           1       0.93      0.92      0.92      1139\n",
      "           2       0.74      0.96      0.83      1006\n",
      "           3       0.95      0.81      0.87       979\n",
      "           4       1.00      0.86      0.92      1098\n",
      "\n",
      "    accuracy                           0.92      5887\n",
      "   macro avg       0.92      0.91      0.91      5887\n",
      "weighted avg       0.93      0.92      0.92      5887\n",
      "\n"
     ]
    }
   ],
   "source": [
    "from sklearn.metrics import classification_report, confusion_matrix\n",
    "print(classification_report(y_test, y_pred))"
   ]
  },
  {
   "cell_type": "code",
   "execution_count": 59,
   "metadata": {},
   "outputs": [
    {
     "name": "stdout",
     "output_type": "stream",
     "text": [
      "Fitting 5 folds for each of 4 candidates, totalling 20 fits\n"
     ]
    },
    {
     "name": "stderr",
     "output_type": "stream",
     "text": [
      "[Parallel(n_jobs=1)]: Using backend SequentialBackend with 1 concurrent workers.\n",
      "[Parallel(n_jobs=1)]: Done  20 out of  20 | elapsed:   43.7s finished\n"
     ]
    },
    {
     "data": {
      "text/plain": [
       "GridSearchCV(estimator=RandomForestClassifier(random_state=0),\n",
       "             param_grid={'max_depth': [4, 6], 'min_samples_leaf': [3, 4],\n",
       "                         'n_estimators': [100]},\n",
       "             scoring='accuracy', verbose=1)"
      ]
     },
     "execution_count": 59,
     "metadata": {},
     "output_type": "execute_result"
    }
   ],
   "source": [
    "#Hyperparameter\n",
    "param_grid  = { 'max_depth': [4,6],\n",
    "           #'min_samples_split': [2, 5, 10],\n",
    "           'min_samples_leaf':[3,4], \n",
    "           'n_estimators': [100]}\n",
    "\n",
    "RFC = RandomForestClassifier(random_state=0) \n",
    "grid_search = GridSearchCV(estimator = RFC, param_grid = param_grid, scoring='accuracy', verbose = 1)\n",
    "grid_search.fit(X_train, y_train)\n",
    "# I didn't make too much hyperparameter because my pc has been turned off several times"
   ]
  },
  {
   "cell_type": "code",
   "execution_count": 60,
   "metadata": {},
   "outputs": [
    {
     "name": "stdout",
     "output_type": "stream",
     "text": [
      "Best parameters: {'max_depth': 6, 'min_samples_leaf': 4, 'n_estimators': 100}\n",
      "Best score : 0.96\n"
     ]
    }
   ],
   "source": [
    "print(\"Best parameters:\", grid_search.best_params_)\n",
    "print(\"Best score : {:.2f}\". format(grid_search.best_score_))"
   ]
  },
  {
   "cell_type": "code",
   "execution_count": 61,
   "metadata": {},
   "outputs": [
    {
     "name": "stdout",
     "output_type": "stream",
     "text": [
      "Accuracy = 0.97\n"
     ]
    }
   ],
   "source": [
    "y_pred = grid_search.predict(X_test)\n",
    "print(\"Accuracy = {:.2f}\".format(metrics.accuracy_score(y_test, y_pred)))"
   ]
  },
  {
   "cell_type": "code",
   "execution_count": 62,
   "metadata": {},
   "outputs": [
    {
     "name": "stdout",
     "output_type": "stream",
     "text": [
      "              precision    recall  f1-score   support\n",
      "\n",
      "           0       1.00      1.00      1.00      1665\n",
      "           1       0.97      0.98      0.97      1139\n",
      "           2       0.90      0.97      0.93      1006\n",
      "           3       0.96      0.94      0.95       979\n",
      "           4       1.00      0.94      0.97      1098\n",
      "\n",
      "    accuracy                           0.97      5887\n",
      "   macro avg       0.97      0.97      0.97      5887\n",
      "weighted avg       0.97      0.97      0.97      5887\n",
      "\n"
     ]
    }
   ],
   "source": [
    "print(classification_report(y_test, y_pred))"
   ]
  },
  {
   "cell_type": "code",
   "execution_count": 63,
   "metadata": {},
   "outputs": [
    {
     "data": {
      "text/plain": [
       "<AxesSubplot:xlabel='Predicted', ylabel='Actual'>"
      ]
     },
     "execution_count": 63,
     "metadata": {},
     "output_type": "execute_result"
    },
    {
     "data": {
      "image/png": "[encoded data removed]",
      "text/plain": [
       "<Figure size 432x288 with 2 Axes>"
      ]
     },
     "metadata": {
      "needs_background": "light"
     },
     "output_type": "display_data"
    }
   ],
   "source": [
    "confusion_matrix = pd.crosstab(y_test, y_pred, rownames=['Actual'], colnames=['Predicted'])\n",
    "sns.heatmap(confusion_matrix, annot=True)"
   ]
  },
  {
   "cell_type": "code",
   "execution_count": null,
   "metadata": {},
   "outputs": [],
   "source": []
  }
 ],
 "metadata": {
  "kernelspec": {
   "display_name": "Python 3",
   "language": "python",
   "name": "python3"
  },
  "language_info": {
   "codemirror_mode": {
    "name": "ipython",
    "version": 3
   },
   "file_extension": ".py",
   "mimetype": "text/x-python",
   "name": "python",
   "nbconvert_exporter": "python",
   "pygments_lexer": "ipython3",
   "version": "3.8.5"
  },
  "toc": {
   "base_numbering": 1,
   "nav_menu": {},
   "number_sections": true,
   "sideBar": true,
   "skip_h1_title": false,
   "title_cell": "Table of Contents",
   "title_sidebar": "Contents",
   "toc_cell": false,
   "toc_position": {},
   "toc_section_display": true,
   "toc_window_display": false
  },
  "varInspector": {
   "cols": {
    "lenName": 16,
    "lenType": 16,
    "lenVar": 40
   },
   "kernels_config": {
    "python": {
     "delete_cmd_postfix": "",
     "delete_cmd_prefix": "del ",
     "library": "var_list.py",
     "varRefreshCmd": "print(var_dic_list())"
    },
    "r": {
     "delete_cmd_postfix": ") ",
     "delete_cmd_prefix": "rm(",
     "library": "var_list.r",
     "varRefreshCmd": "cat(var_dic_list()) "
    }
   },
   "types_to_exclude": [
    "module",
    "function",
    "builtin_function_or_method",
    "instance",
    "_Feature"
   ],
   "window_display": false
  }
 },
 "nbformat": 4,
 "nbformat_minor": 2
}
