{
 "cells": [
  {
   "cell_type": "markdown",
   "metadata": {},
   "source": [
    "## Quiz #0503"
   ]
  },
  {
   "cell_type": "markdown",
   "metadata": {},
   "source": [
    "### \"Data Augmentation\""
   ]
  },
  {
   "cell_type": "markdown",
   "metadata": {},
   "source": [
    "#### Answer the following questions by providing Python code:\n",
    "#### Objectives:\n",
    "- Code the helper functions.\n",
    "- Optimize and test a predictive model of your choice.\n",
    "- Carry out data aumentation in order to improve the predictive accuracy when the given training data is small."
   ]
  },
  {
   "cell_type": "code",
   "execution_count": 250,
   "metadata": {},
   "outputs": [],
   "source": [
    "import numpy as np\n",
    "import pandas as pd\n",
    "import os\n",
    "import warnings\n",
    "import matplotlib.pyplot as plt\n",
    "from sklearn.model_selection import GridSearchCV\n",
    "from sklearn.neighbors import KNeighborsClassifier\n",
    "from sklearn.tree import DecisionTreeClassifier\n",
    "from sklearn.ensemble import RandomForestClassifier,AdaBoostClassifier, GradientBoostingClassifier\n",
    "from xgboost import XGBClassifier\n",
    "from sklearn import metrics, preprocessing\n",
    "from scipy.ndimage.interpolation import rotate\n",
    "warnings.filterwarnings(action='ignore')                  # Turn off the warnings.\n",
    "%matplotlib inline"
   ]
  },
  {
   "cell_type": "markdown",
   "metadata": {},
   "source": [
    "#### Read in data:\n",
    "The explanation on the original data can be found [here](http://yann.lecun.com/exdb/mnist/).\n",
    "\n",
    "- The data we will be using is a small subset of the original data with only 100 observations.\n",
    "- Each observation is the \"flattened\" version of a image.\n",
    "- The first column corresponds to the label (Y).\n",
    "- The image size is 28x28."
   ]
  },
  {
   "cell_type": "code",
   "execution_count": 251,
   "metadata": {},
   "outputs": [],
   "source": [
    "# Read the training and testing data separately.\n",
    "data_train = pd.read_csv('data_mnist_train_100.csv', header=None,encoding='latin1')\n",
    "data_test = pd.read_csv('data_mnist_test_100.csv', header=None,encoding='latin1')\n",
    "\n",
    "# Scale and split the data set into X and Y.\n",
    "X_train = np.array((data_train.iloc[:,1:]/255.0)*0.99+0.01)\n",
    "X_test = np.array((data_test.iloc[:,1:]/255.0)*0.99+0.01)\n",
    "Y_train = np.array(data_train.iloc[:,0])\n",
    "Y_test = np.array(data_test.iloc[:,0])"
   ]
  },
  {
   "cell_type": "markdown",
   "metadata": {},
   "source": [
    "1). Code the helper function 'show_data()' that visualizes each given observation."
   ]
  },
  {
   "cell_type": "code",
   "execution_count": 252,
   "metadata": {},
   "outputs": [],
   "source": [
    "Y_train = np.eye(10)[Y_train]\n",
    "Y_test = np.eye(10)[Y_test]\n",
    "X_train = X_train.reshape(-1,28,28)\n",
    "X_test = X_train.reshape(-1,28,28)"
   ]
  },
  {
   "cell_type": "code",
   "execution_count": 253,
   "metadata": {},
   "outputs": [],
   "source": [
    "from scipy import ndimage\n",
    "def show_data(X, Y, n, angle=0):\n",
    "    plt.imshow(rotate(X_train[n], angle, reshape=False),cmap = \"gray\")\n",
    "    plt.show()"
   ]
  },
  {
   "cell_type": "code",
   "execution_count": 254,
   "metadata": {},
   "outputs": [
    {
     "data": {
      "image/png": "[encoded data removed]",
      "text/plain": [
       "<Figure size 432x288 with 1 Axes>"
      ]
     },
     "metadata": {
      "needs_background": "light"
     },
     "output_type": "display_data"
    }
   ],
   "source": [
    "# Example 1.\n",
    "show_data(X_train, Y_train,10,+10)"
   ]
  },
  {
   "cell_type": "code",
   "execution_count": 255,
   "metadata": {},
   "outputs": [
    {
     "data": {
      "image/png": "[encoded data removed]",
      "text/plain": [
       "<Figure size 432x288 with 1 Axes>"
      ]
     },
     "metadata": {
      "needs_background": "light"
     },
     "output_type": "display_data"
    }
   ],
   "source": [
    "# Example 2.\n",
    "show_data(X_train, Y_train,10,-30)"
   ]
  },
  {
   "cell_type": "code",
   "execution_count": 256,
   "metadata": {},
   "outputs": [
    {
     "data": {
      "image/png": "[encoded data removed]",
      "text/plain": [
       "<Figure size 432x288 with 1 Axes>"
      ]
     },
     "metadata": {
      "needs_background": "light"
     },
     "output_type": "display_data"
    }
   ],
   "source": [
    "# Example 3.\n",
    "show_data(X_train, Y_train,77,0)"
   ]
  },
  {
   "cell_type": "markdown",
   "metadata": {},
   "source": [
    "2). Choose an algorithm and carry out the predictive analysis.\n",
    "\n",
    "- Optimize the hyperparameter(s).\n",
    "- Calculate the accuracy.\n",
    "- Is the accuracy high enough?"
   ]
  },
  {
   "cell_type": "code",
   "execution_count": 257,
   "metadata": {},
   "outputs": [],
   "source": [
    "# Scale and split the data set into X and Y.\n",
    "X_train = np.array((data_train.iloc[:,1:]/255.0)*0.99+0.01)\n",
    "X_test = np.array((data_test.iloc[:,1:]/255.0)*0.99+0.01)\n",
    "Y_train = np.array(data_train.iloc[:,0])\n",
    "Y_test = np.array(data_test.iloc[:,0])"
   ]
  },
  {
   "cell_type": "code",
   "execution_count": 258,
   "metadata": {},
   "outputs": [
    {
     "name": "stdout",
     "output_type": "stream",
     "text": [
      "Accuracy = 0.68\n"
     ]
    }
   ],
   "source": [
    "SEED = 1234\n",
    "from sklearn.svm import SVC\n",
    "svc = SVC(kernel='linear', random_state=SEED)\n",
    "svc.fit(X_train, Y_train)\n",
    "y_pred = svc.predict(X_test)\n",
    "print(\"Accuracy = {:.2f}\".format(metrics.accuracy_score(Y_test, y_pred)))"
   ]
  },
  {
   "cell_type": "code",
   "execution_count": 259,
   "metadata": {},
   "outputs": [
    {
     "data": {
      "text/plain": [
       "array([0.9 , 0.75, 0.75, 0.8 , 0.8 ])"
      ]
     },
     "execution_count": 259,
     "metadata": {},
     "output_type": "execute_result"
    }
   ],
   "source": [
    "from sklearn.model_selection import cross_val_score\n",
    "from sklearn.model_selection import validation_curve\n",
    "\n",
    "model = SVC()\n",
    "cross_val_score(model, X_train, Y_train, cv=5, scoring='accuracy')"
   ]
  },
  {
   "cell_type": "code",
   "execution_count": 261,
   "metadata": {},
   "outputs": [
    {
     "data": {
      "text/plain": [
       "GridSearchCV(cv=5, estimator=SVC(),\n",
       "             param_grid={'C': [0.1, 1, 10], 'gamma': [1, 0.2, 0.03],\n",
       "                         'kernel': ['rbf', 'poly']})"
      ]
     },
     "execution_count": 261,
     "metadata": {},
     "output_type": "execute_result"
    }
   ],
   "source": [
    "param_grid = {'kernel': ['rbf', 'poly'], 'C': [0.1,1,10],'gamma': [1, 0.2, 0.03]}\n",
    "grid = GridSearchCV(SVC(), param_grid, cv=5)\n",
    "grid.fit(X_train, Y_train)"
   ]
  },
  {
   "cell_type": "code",
   "execution_count": 262,
   "metadata": {},
   "outputs": [
    {
     "name": "stdout",
     "output_type": "stream",
     "text": [
      "0.8099999999999999\n",
      "{'C': 10, 'gamma': 0.03, 'kernel': 'rbf'}\n"
     ]
    }
   ],
   "source": [
    "print(grid.best_score_)\n",
    "print(grid.best_params_)\n",
    "\n",
    "# No, the accuracy is not high enough"
   ]
  },
  {
   "cell_type": "markdown",
   "metadata": {},
   "source": [
    "3). Code the helper function 'rotate_data()' that rotates each given observation by an angle. HINT: use scipy.ndimage.interpolation()."
   ]
  },
  {
   "cell_type": "code",
   "execution_count": null,
   "metadata": {},
   "outputs": [],
   "source": []
  },
  {
   "cell_type": "code",
   "execution_count": 263,
   "metadata": {},
   "outputs": [],
   "source": [
    "def rotate_data(img, angle=0):\n",
    "    size = int(np.sqrt(img.shape[0]))\n",
    "    rot_img = rotate(img.reshape(size,size), angle, reshape = False) \n",
    "    return rot_img.reshape(img.shape[0])"
   ]
  },
  {
   "cell_type": "markdown",
   "metadata": {},
   "source": [
    "4). Augment the training dataset.\n",
    "- Increase the size of the training dataset by introducing slight rotations (clockwise and counterclockwise).\n",
    "- Use the 'rotate_data()' function defined in the previous step.\n",
    "- No need to augment the testing dataset.\n",
    "- Target approximately five fold aumentation."
   ]
  },
  {
   "cell_type": "code",
   "execution_count": 264,
   "metadata": {},
   "outputs": [],
   "source": [
    "aug_X_train = []\n",
    "aug_Y_train = []\n",
    "# do a rotation\n",
    "for i in range(len(X_train)):\n",
    "    aug_X_train.append(rotate_data(X_train[i], angle=50))\n",
    "    aug_X_train.append(rotate_data(X_train[i], angle=-50))\n",
    "    aug_Y_train.append(rotate_data(X_train[i], angle=50))\n",
    "    aug_Y_train.append(rotate_data(X_train[i], angle=-50))\n",
    "# Concatenate data after rotation\n",
    "aug_X_train = np.concatenate((X_train, X_train2))\n",
    "aug_Y_train = np.concatenate((Y_train, Y_train2))"
   ]
  },
  {
   "cell_type": "markdown",
   "metadata": {},
   "source": [
    "5). Redo the predictive analysis with the augmented training dataset.\n",
    "\n",
    "- Use the same algorithm as in the step 2).\n",
    "- Calculate the accuracy.\n",
    "- Has the accuracy gone up?"
   ]
  },
  {
   "cell_type": "code",
   "execution_count": 265,
   "metadata": {},
   "outputs": [
    {
     "name": "stdout",
     "output_type": "stream",
     "text": [
      "Accuracy = 0.75\n"
     ]
    }
   ],
   "source": [
    "# <Your code goes in here>\n",
    "#Algorithm : Support vector machine (SVM)\n",
    "from sklearn.svm import SVC\n",
    "svc = SVC(kernel='linear', random_state=SEED)\n",
    "svc.fit(aug_X_train, aug_Y_train)\n",
    "y_pred = svc.predict(X_test)\n",
    "print(\"Accuracy = {:.2f}\".format(metrics.accuracy_score(Y_test, y_pred)))"
   ]
  },
  {
   "cell_type": "code",
   "execution_count": 266,
   "metadata": {},
   "outputs": [
    {
     "data": {
      "text/plain": [
       "array([1.  , 1.  , 1.  , 0.66, 0.6 ])"
      ]
     },
     "execution_count": 266,
     "metadata": {},
     "output_type": "execute_result"
    }
   ],
   "source": [
    "model = SVC()\n",
    "cross_val_score(model, aug_X_train, aug_Y_train, cv=5, scoring='accuracy')"
   ]
  },
  {
   "cell_type": "code",
   "execution_count": 267,
   "metadata": {},
   "outputs": [
    {
     "data": {
      "text/plain": [
       "GridSearchCV(cv=5, estimator=SVC(),\n",
       "             param_grid={'C': [0.1, 1, 10], 'gamma': [1, 0.2, 0.03],\n",
       "                         'kernel': ['rbf', 'poly']})"
      ]
     },
     "execution_count": 267,
     "metadata": {},
     "output_type": "execute_result"
    }
   ],
   "source": [
    "param_grid = {'kernel': ['rbf', 'poly'], 'C': [0.1,1,10],'gamma': [1, 0.2, 0.03]}\n",
    "grid = GridSearchCV(SVC(), param_grid, cv=5)\n",
    "grid.fit(aug_X_train, aug_Y_train)"
   ]
  },
  {
   "cell_type": "code",
   "execution_count": 268,
   "metadata": {},
   "outputs": [
    {
     "name": "stdout",
     "output_type": "stream",
     "text": [
      "0.8380000000000001\n",
      "{'C': 1, 'gamma': 0.03, 'kernel': 'rbf'}\n"
     ]
    }
   ],
   "source": [
    "print(grid.best_score_)\n",
    "print(grid.best_params_)"
   ]
  },
  {
   "cell_type": "code",
   "execution_count": null,
   "metadata": {},
   "outputs": [],
   "source": [
    "#yes the accuracy has gone up"
   ]
  }
 ],
 "metadata": {
  "kernelspec": {
   "display_name": "Python 3",
   "language": "python",
   "name": "python3"
  },
  "language_info": {
   "codemirror_mode": {
    "name": "ipython",
    "version": 3
   },
   "file_extension": ".py",
   "mimetype": "text/x-python",
   "name": "python",
   "nbconvert_exporter": "python",
   "pygments_lexer": "ipython3",
   "version": "3.8.5"
  },
  "toc": {
   "base_numbering": 1,
   "nav_menu": {},
   "number_sections": true,
   "sideBar": true,
   "skip_h1_title": false,
   "title_cell": "Table of Contents",
   "title_sidebar": "Contents",
   "toc_cell": false,
   "toc_position": {},
   "toc_section_display": true,
   "toc_window_display": false
  },
  "varInspector": {
   "cols": {
    "lenName": 16,
    "lenType": 16,
    "lenVar": 40
   },
   "kernels_config": {
    "python": {
     "delete_cmd_postfix": "",
     "delete_cmd_prefix": "del ",
     "library": "var_list.py",
     "varRefreshCmd": "print(var_dic_list())"
    },
    "r": {
     "delete_cmd_postfix": ") ",
     "delete_cmd_prefix": "rm(",
     "library": "var_list.r",
     "varRefreshCmd": "cat(var_dic_list()) "
    }
   },
   "types_to_exclude": [
    "module",
    "function",
    "builtin_function_or_method",
    "instance",
    "_Feature"
   ],
   "window_display": false
  }
 },
 "nbformat": 4,
 "nbformat_minor": 2
}
